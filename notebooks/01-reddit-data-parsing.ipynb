{
 "cells": [
  {
   "cell_type": "code",
   "execution_count": 9,
   "metadata": {},
   "outputs": [],
   "source": [
    "import zstandard\n",
    "import json\n",
    "import os\n",
    "from glob import glob\n",
    "from tqdm.auto import tqdm\n",
    "from datetime import datetime\n",
    "from p_tqdm import p_map"
   ]
  },
  {
   "cell_type": "code",
   "execution_count": 2,
   "metadata": {},
   "outputs": [],
   "source": [
    "def read_and_decode(reader, chunk_size, max_window_size, previous_chunk=None, bytes_read=0):\n",
    "    chunk = reader.read(chunk_size)\n",
    "    bytes_read += chunk_size\n",
    "    if previous_chunk is not None:\n",
    "        chunk = previous_chunk + chunk\n",
    "    try:\n",
    "        return chunk.decode()\n",
    "    except UnicodeDecodeError:\n",
    "        if bytes_read > max_window_size:\n",
    "            raise UnicodeError(f\"Unable to decode frame after reading {bytes_read:,} bytes\")\n",
    "        return read_and_decode(reader, chunk_size, max_window_size, chunk, bytes_read)\n",
    "\n",
    "\n",
    "def read_lines_zst(file_name):\n",
    "    with open(file_name, \"rb\") as file_handle:\n",
    "        buffer = \"\"\n",
    "        reader = zstandard.ZstdDecompressor(max_window_size=2**31).stream_reader(file_handle)\n",
    "        while True:\n",
    "            chunk = read_and_decode(reader, 2**27, (2**29) * 2)\n",
    "            if not chunk:\n",
    "                break\n",
    "            lines = (buffer + chunk).split(\"\\n\")\n",
    "\n",
    "            for line in lines[:-1]:\n",
    "                yield line, file_handle.tell()\n",
    "\n",
    "            buffer = lines[-1]\n",
    "        reader.close()"
   ]
  },
  {
   "cell_type": "code",
   "execution_count": 6,
   "metadata": {},
   "outputs": [
    {
     "name": "stderr",
     "output_type": "stream",
     "text": [
      "100%|██████████| 9/9 [00:03<00:00,  2.85it/s]\n"
     ]
    }
   ],
   "source": [
    "def process_file(f):\n",
    "    file_size = os.stat(f).st_size\n",
    "    id_comments = []\n",
    "    bad_lines = 0\n",
    "    file_lines = 0\n",
    "    for line, file_bytes_processed in read_lines_zst(f):\n",
    "        try:\n",
    "            obj = json.loads(line)\n",
    "            body = obj[\"body\"]\n",
    "            subreddit = obj[\"subreddit\"]\n",
    "            created = datetime.utcfromtimestamp(int(obj[\"created_utc\"]))\n",
    "\n",
    "            if subreddit == \"indonesia\":\n",
    "                id_comments.append(obj)\n",
    "        except json.JSONDecodeError as err:\n",
    "            bad_lines += 1\n",
    "\n",
    "        file_lines += 1\n",
    "        if file_lines % 1_000_000 == 0:\n",
    "            print(\n",
    "                f\"{created.strftime('%Y-%m-%d %H:%M:%S')} : {file_lines:,} : {len(id_comments):,} : {file_bytes_processed:,}:{(file_bytes_processed / file_size) * 100:.0f}%\"\n",
    "            )\n",
    "    \n",
    "    return id_comments"
   ]
  },
  {
   "cell_type": "code",
   "execution_count": 3,
   "metadata": {},
   "outputs": [],
   "source": [
    "files = sorted(glob(\"/mnt/block-volume/root/reddit/comments/RC_202*.zst\"))\n",
    "results = p_map(process_file, files)\n",
    "id_comments = [comment for result in results for comment in result]"
   ]
  },
  {
   "cell_type": "code",
   "execution_count": 14,
   "metadata": {},
   "outputs": [],
   "source": [
    "with open(\"/mnt/block-volume/root/reddit_comments_subreddit_indonesia_RC_2020-01-2023-09.json\", \"w\") as f:\n",
    "    json.dump(id_comments, f)"
   ]
  },
  {
   "cell_type": "code",
   "execution_count": null,
   "metadata": {},
   "outputs": [],
   "source": []
  }
 ],
 "metadata": {
  "kernelspec": {
   "display_name": "Python 3",
   "language": "python",
   "name": "python3"
  },
  "language_info": {
   "codemirror_mode": {
    "name": "ipython",
    "version": 3
   },
   "file_extension": ".py",
   "mimetype": "text/x-python",
   "name": "python",
   "nbconvert_exporter": "python",
   "pygments_lexer": "ipython3",
   "version": "3.10.12"
  }
 },
 "nbformat": 4,
 "nbformat_minor": 2
}
